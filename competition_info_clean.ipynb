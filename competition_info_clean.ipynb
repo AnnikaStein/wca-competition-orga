{
 "cells": [
  {
   "cell_type": "code",
   "execution_count": null,
   "id": "70b0cac7-ff38-4abc-9de4-372cb2a54310",
   "metadata": {},
   "outputs": [],
   "source": [
    "import csv"
   ]
  },
  {
   "cell_type": "code",
   "execution_count": null,
   "id": "6ffea2fb-84cf-4858-9ad5-c7727d59faa4",
   "metadata": {},
   "outputs": [],
   "source": [
    "import pandas as pd"
   ]
  },
  {
   "cell_type": "code",
   "execution_count": null,
   "id": "19723d54-007d-4a7a-b2d7-b39d902831b0",
   "metadata": {},
   "outputs": [],
   "source": [
    "import numpy as np"
   ]
  },
  {
   "cell_type": "code",
   "execution_count": null,
   "id": "d44ae42b-a8b5-406d-a295-535bb10ace2c",
   "metadata": {},
   "outputs": [],
   "source": [
    "competitors = pd.read_csv('RheinlandPfalzOpen2022-registration-10-07-2022.csv')"
   ]
  },
  {
   "cell_type": "code",
   "execution_count": null,
   "id": "23814340-5629-447a-b7c8-1ba2177a5300",
   "metadata": {},
   "outputs": [],
   "source": [
    "competitors"
   ]
  },
  {
   "cell_type": "code",
   "execution_count": null,
   "id": "f0e9a0c7-20b2-4e36-ab86-5135f9ebb69e",
   "metadata": {},
   "outputs": [],
   "source": [
    "n_all_competitors = len(competitors)"
   ]
  },
  {
   "cell_type": "code",
   "execution_count": null,
   "id": "5647c92a-ba57-4e8d-a792-fd81c54ad45f",
   "metadata": {},
   "outputs": [],
   "source": [
    "competitors.keys()"
   ]
  },
  {
   "cell_type": "code",
   "execution_count": null,
   "id": "bf3d096b-c163-4222-be27-c8a8409cfb04",
   "metadata": {},
   "outputs": [],
   "source": [
    "results = pd.read_csv('../../WCA/WCA_export.tsv/WCA_export_Results.tsv', sep='\\t')"
   ]
  },
  {
   "cell_type": "code",
   "execution_count": null,
   "id": "4b636c00-205b-4912-bbef-a09332fbefe3",
   "metadata": {},
   "outputs": [],
   "source": [
    "results"
   ]
  },
  {
   "cell_type": "code",
   "execution_count": null,
   "id": "867e02f6-e067-4a4c-9629-cebea58e4a45",
   "metadata": {},
   "outputs": [],
   "source": [
    "results.keys()"
   ]
  },
  {
   "cell_type": "markdown",
   "id": "9028c71c-8d92-498a-a4f5-43fb38e1a38c",
   "metadata": {},
   "source": [
    "# Data prep\n",
    "extract relevant information"
   ]
  },
  {
   "cell_type": "code",
   "execution_count": null,
   "id": "d2390f91-13bd-4800-acc2-7c438cacfbc3",
   "metadata": {},
   "outputs": [],
   "source": [
    "events_daily = {\n",
    "                'sat' : ['555', '666', '777', '333bf', '333oh', 'minx', 'skewb', 'sq1'],\n",
    "                'sun' : ['333', '222', '444', 'clock', 'pyram']\n",
    "                }"
   ]
  },
  {
   "cell_type": "markdown",
   "id": "29c9243c-7e55-4656-8500-ca942bbef72d",
   "metadata": {},
   "source": [
    "<hr>"
   ]
  },
  {
   "cell_type": "code",
   "execution_count": null,
   "id": "58f09075-5c4e-4e2b-ad2d-2b041bc632ed",
   "metadata": {},
   "outputs": [],
   "source": [
    "# count competitors + guests where >=1 event of competitor is held on saturday or sunday, respectively\n",
    "is_attending_sat = competitors[events_daily['sat']].any(1)\n",
    "is_attending_sun = competitors[events_daily['sun']].any(1)\n",
    "is_attending_both = is_attending_sat & is_attending_sun\n",
    "n_comp_sat = is_attending_sat.sum()\n",
    "n_comp_sun = is_attending_sun.sum()\n",
    "n_comp_both = is_attending_both.sum()\n",
    "attendees_sat = competitors.loc[is_attending_sat]\n",
    "attendees_sun = competitors.loc[is_attending_sun]"
   ]
  },
  {
   "cell_type": "markdown",
   "id": "fb9239ab-db13-486c-bdd9-f55b7c6b2f86",
   "metadata": {},
   "source": [
    "<hr>"
   ]
  },
  {
   "cell_type": "code",
   "execution_count": null,
   "id": "7438cd32-7868-46a8-b969-e3b492d0dd8c",
   "metadata": {},
   "outputs": [],
   "source": [
    "n_guests_sat = attendees_sat['Guests'].sum()\n",
    "n_guests_sun = attendees_sun['Guests'].sum()"
   ]
  },
  {
   "cell_type": "markdown",
   "id": "a6c765f4-80ad-4c74-8c38-1146c4f51a44",
   "metadata": {},
   "source": [
    "<hr>"
   ]
  },
  {
   "cell_type": "code",
   "execution_count": null,
   "id": "a1cdc229-2407-4af3-ae4c-c71c414d7e53",
   "metadata": {},
   "outputs": [],
   "source": [
    "is_newcomer = competitors['WCA ID'].isnull()\n",
    "newcomers = competitors.loc[is_newcomer]\n",
    "newcomers_only_sat = is_newcomer & is_attending_sat & ~is_attending_sun\n",
    "newcomers_only_sun = is_newcomer & ~is_attending_sat & is_attending_sun\n",
    "newcomers_both_days = is_newcomer & is_attending_sat & is_attending_sun\n",
    "n_newcomers = is_newcomer.sum()\n",
    "n_newcomers_sat = newcomers_only_sat.sum()\n",
    "n_newcomers_sun = newcomers_only_sun.sum()\n",
    "n_newcomers_both = newcomers_both_days.sum()"
   ]
  },
  {
   "cell_type": "markdown",
   "id": "75a81a3c-8b4d-438b-92b1-20aae14d4626",
   "metadata": {},
   "source": [
    "<hr>"
   ]
  },
  {
   "cell_type": "code",
   "execution_count": null,
   "id": "ffb674ff-7536-4c62-88b3-426b6bcb7561",
   "metadata": {},
   "outputs": [],
   "source": [
    "is_foreigner = competitors['Country'] != 'Germany'\n",
    "foreigners_only_sat = is_foreigner & is_attending_sat & ~is_attending_sun\n",
    "foreigners_only_sun = is_foreigner & ~is_attending_sat & is_attending_sun\n",
    "foreigners_both_days = is_foreigner & is_attending_sat & is_attending_sun\n",
    "n_foreigners = is_foreigner.sum()\n",
    "n_foreigners_sat = foreigners_only_sat.sum()\n",
    "n_foreigners_sun = foreigners_only_sun.sum()\n",
    "n_foreigners_both = foreigners_both_days.sum()"
   ]
  },
  {
   "cell_type": "code",
   "execution_count": null,
   "id": "bde665f6-1426-480c-b26f-1f116b19d579",
   "metadata": {},
   "outputs": [],
   "source": [
    "# necessary to decide whether to also hold an English tutorial besides a German one\n",
    "is_foreigner_and_newcomer = is_foreigner & is_newcomer\n",
    "foreigners_newcomers_only_sat = foreigners_only_sat & newcomers_only_sat\n",
    "foreigners_newcomers_only_sun = foreigners_only_sun & newcomers_only_sun\n",
    "foreigners_newcomers_both_days = foreigners_both_days & newcomers_both_days\n",
    "n_foreign_new = is_foreigner_and_newcomer.sum()\n",
    "n_foreign_new_sat = foreigners_newcomers_only_sat.sum()\n",
    "n_foreign_new_sun = foreigners_newcomers_only_sun.sum()\n",
    "n_foreign_new_both = foreigners_newcomers_both_days.sum()"
   ]
  },
  {
   "cell_type": "markdown",
   "id": "16de0af4-2931-4311-9280-efff447ba740",
   "metadata": {},
   "source": [
    "<hr>"
   ]
  },
  {
   "cell_type": "code",
   "execution_count": null,
   "id": "95fe80de-3945-4dfb-bb39-9d436f8e1662",
   "metadata": {},
   "outputs": [],
   "source": [
    "# number of competitions is useful to know if someone does not yet have that much experience,\n",
    "# e.g. \"\"SELECT count(distinct competitionId) FROM Results where personId='$chosenPersonId'\"\"\n",
    "# as in https://github.com/thewca/worldcubeassociation.org/commit/1e41fd736f2efea9258a1a954d096359a472ade5\n",
    "is_returner = ~competitors['WCA ID'].isnull()\n",
    "returners = competitors.loc[is_returner]"
   ]
  },
  {
   "cell_type": "code",
   "execution_count": null,
   "id": "9f32c1d1-b235-4b73-913b-c0f365eead18",
   "metadata": {
    "scrolled": true,
    "tags": []
   },
   "outputs": [],
   "source": [
    "result_is_from_returner = results.personId.isin(returners['WCA ID'])"
   ]
  },
  {
   "cell_type": "code",
   "execution_count": null,
   "id": "1edd5730-a8e9-41de-b3f7-7ef2d88f7732",
   "metadata": {},
   "outputs": [],
   "source": [
    "# this is great: https://stackoverflow.com/a/38309823\n",
    "n_previous_comps = results[result_is_from_returner].groupby('personId')['competitionId'].nunique()"
   ]
  },
  {
   "cell_type": "code",
   "execution_count": null,
   "id": "7b20878a-39d6-438a-bc2d-74741cfc53c3",
   "metadata": {},
   "outputs": [],
   "source": [
    "# boolean mask, for every returner\n",
    "has_only_few_comps = n_previous_comps <= 2"
   ]
  },
  {
   "cell_type": "code",
   "execution_count": null,
   "id": "30e82520-ea74-4f10-a912-87733d5170ea",
   "metadata": {},
   "outputs": [],
   "source": [
    "returners_with_few_comps = returners.loc[returners['WCA ID'].isin(has_only_few_comps[has_only_few_comps].index)]"
   ]
  },
  {
   "cell_type": "code",
   "execution_count": null,
   "id": "6a3f535b-73e9-4530-9f54-f1dfb086c59a",
   "metadata": {},
   "outputs": [],
   "source": [
    "inexperienced_returner_is_attending_sat = returners_with_few_comps[events_daily['sat']].any(1)\n",
    "inexperienced_returner_is_attending_sun = returners_with_few_comps[events_daily['sun']].any(1)\n",
    "inexperienced_returner_only_sat = inexperienced_returner_is_attending_sat & ~inexperienced_returner_is_attending_sun\n",
    "inexperienced_returner_only_sun = ~inexperienced_returner_is_attending_sat & inexperienced_returner_is_attending_sun\n",
    "inexperienced_returner_both_days = inexperienced_returner_is_attending_sat & inexperienced_returner_is_attending_sun\n",
    "n_inexperienced = has_only_few_comps.sum()\n",
    "n_inexperienced_sat = inexperienced_returner_only_sat.sum()\n",
    "n_inexperienced_sun = inexperienced_returner_only_sun.sum()\n",
    "n_inexperienced_both = inexperienced_returner_both_days.sum()"
   ]
  },
  {
   "cell_type": "markdown",
   "id": "c6ab0251-8be2-4428-9ad8-5f0cf98bf9e5",
   "metadata": {},
   "source": [
    "# Function for convenience\n",
    "for some results, I really want to see all the entries, it's not too bad here"
   ]
  },
  {
   "cell_type": "code",
   "execution_count": null,
   "id": "2be8ac2d-0ad4-4896-a902-501f0d804710",
   "metadata": {},
   "outputs": [],
   "source": [
    "# from https://stackoverflow.com/a/19126566\n",
    "def print_full(x):\n",
    "    pd.set_option('display.max_rows', len(x))\n",
    "    print(x)\n",
    "    pd.reset_option('display.max_rows')"
   ]
  },
  {
   "cell_type": "markdown",
   "id": "59cb38ef-8f5e-4008-8942-eee33818fb1e",
   "metadata": {
    "tags": []
   },
   "source": [
    "# Daily attendance\n",
    "plan number of chairs, tables accordingly\n",
    "\n",
    "this is independent of attendee's attributes, just to know the venue occupancy, especially in covid times"
   ]
  },
  {
   "cell_type": "code",
   "execution_count": null,
   "id": "8aee5ea4-390e-4336-bc9a-70886a234762",
   "metadata": {},
   "outputs": [],
   "source": [
    "print('\\t\\t',\n",
    "      'Saturday\\t',\n",
    "      'Sunday')\n",
    "print('Competitors\\t',\n",
    "      n_comp_sat,\n",
    "      '\\t\\t',\n",
    "      n_comp_sun)\n",
    "print('Guests\\t',\n",
    "      '\\t',\n",
    "      n_guests_sat,\n",
    "      '\\t\\t',\n",
    "      n_guests_sun)\n",
    "print('Total\\t',\n",
    "      '\\t',\n",
    "      n_comp_sat+n_guests_sat,\n",
    "      '\\t\\t',\n",
    "      n_comp_sun+n_guests_sun)"
   ]
  },
  {
   "cell_type": "markdown",
   "id": "42313682-7c8a-40a2-ae68-ff5271a89c58",
   "metadata": {},
   "source": [
    "# Returners\n",
    "people with a WCA ID"
   ]
  },
  {
   "cell_type": "code",
   "execution_count": null,
   "id": "bd160dc1-5ffb-4f73-a49a-2b2c7cca316b",
   "metadata": {
    "scrolled": true,
    "tags": []
   },
   "outputs": [],
   "source": [
    "print_full(returners['WCA ID'])"
   ]
  },
  {
   "cell_type": "code",
   "execution_count": null,
   "id": "293539e3-639f-42f9-bf92-fd380ce28f46",
   "metadata": {
    "scrolled": true,
    "tags": []
   },
   "outputs": [],
   "source": [
    "print_full(n_previous_comps)"
   ]
  },
  {
   "cell_type": "code",
   "execution_count": null,
   "id": "c26a876c-07a8-4971-88f8-361b6e40fdff",
   "metadata": {
    "scrolled": true,
    "tags": []
   },
   "outputs": [],
   "source": [
    "# where did they go?\n",
    "results.loc[result_is_from_returner]['competitionId'].unique()"
   ]
  },
  {
   "cell_type": "markdown",
   "id": "728a9220-64e9-4a72-849d-a236b120cf09",
   "metadata": {
    "tags": []
   },
   "source": [
    "# Newcomers and less experienced competitors\n",
    "for tutorial, can be helpful to know how many people we expect to join"
   ]
  },
  {
   "cell_type": "code",
   "execution_count": null,
   "id": "a58959e9-af7d-42a6-8f16-45a074c1b589",
   "metadata": {},
   "outputs": [],
   "source": [
    "newcomers"
   ]
  },
  {
   "cell_type": "code",
   "execution_count": null,
   "id": "29245e68-4857-4062-957f-b8848b223ef7",
   "metadata": {},
   "outputs": [],
   "source": [
    "returners_with_few_comps"
   ]
  },
  {
   "cell_type": "code",
   "execution_count": null,
   "id": "f6f91686-7c12-4417-88aa-3934f3ec4594",
   "metadata": {},
   "outputs": [],
   "source": [
    "print('\\t\\t\\t',\n",
    "      'Only Saturday\\t',\n",
    "      'Only Sunday\\t',\n",
    "      'Both days\\t',\n",
    "      'Any day')\n",
    "print('Newcomers\\t\\t',\n",
    "      n_newcomers_sat,\n",
    "      '\\t','\\t',\n",
    "      n_newcomers_sun,\n",
    "      '\\t','\\t',\n",
    "      n_newcomers_both,\n",
    "      '\\t','\\t',\n",
    "      n_newcomers)\n",
    "print('Fraction\\t\\t',\n",
    "      round(n_newcomers_sat/n_comp_sat,2),\n",
    "      '\\t','\\t',\n",
    "      round(n_newcomers_sun/n_comp_sun,2),\n",
    "      '\\t','\\t',\n",
    "      round(n_newcomers_both/n_comp_both,2),\n",
    "      '\\t','\\t',\n",
    "      round(n_newcomers/n_all_competitors,2))\n",
    "print()\n",
    "print('Foreign newcomers\\t',\n",
    "      n_foreign_new_sat,\n",
    "      '\\t','\\t',\n",
    "      n_foreign_new_sun,\n",
    "      '\\t','\\t',\n",
    "      n_foreign_new_both,\n",
    "      '\\t','\\t',\n",
    "      n_foreign_new)\n",
    "print('Fraction\\t\\t',\n",
    "      round(n_foreign_new_sat/n_comp_sat,2),\n",
    "      '\\t','\\t',\n",
    "      round(n_foreign_new_sun/n_comp_sun,2),\n",
    "      '\\t','\\t',\n",
    "      round(n_foreign_new_both/n_comp_both,2),\n",
    "      '\\t','\\t',\n",
    "      round(n_foreign_new/n_all_competitors,2))\n",
    "print()\n",
    "print('Returners (<= 2 comps)\\t',\n",
    "      n_inexperienced_sat,\n",
    "      '\\t','\\t',\n",
    "      n_inexperienced_sun,\n",
    "      '\\t','\\t',\n",
    "      n_inexperienced_both,\n",
    "      '\\t','\\t',\n",
    "      n_inexperienced)\n",
    "print('Fraction\\t\\t',\n",
    "      round(n_inexperienced_sat/n_comp_sat,2),\n",
    "      '\\t','\\t',\n",
    "      round(n_inexperienced_sun/n_comp_sun,2),\n",
    "      '\\t','\\t',\n",
    "      round(n_inexperienced_both/n_comp_both,2),\n",
    "      '\\t','\\t',\n",
    "      round(n_inexperienced/n_all_competitors, 2))"
   ]
  },
  {
   "cell_type": "markdown",
   "id": "51c0a1fe-4218-40d5-95ed-ff1ecee38d16",
   "metadata": {},
   "source": [
    "# Demography\n",
    "basic stats of who is attending"
   ]
  },
  {
   "cell_type": "code",
   "execution_count": null,
   "id": "a8e8d3b7-1b78-4c78-b231-efbbf094956c",
   "metadata": {},
   "outputs": [],
   "source": [
    "gender = competitors.Gender"
   ]
  },
  {
   "cell_type": "code",
   "execution_count": null,
   "id": "50fcee6f-c64f-4f8f-900f-be912ada12c7",
   "metadata": {},
   "outputs": [],
   "source": [
    "gender_vals = gender.value_counts()"
   ]
  },
  {
   "cell_type": "code",
   "execution_count": null,
   "id": "af879a59-bd77-430f-a23f-cf065dfade85",
   "metadata": {},
   "outputs": [],
   "source": [
    "gender_vals"
   ]
  },
  {
   "cell_type": "code",
   "execution_count": null,
   "id": "8f270252-2466-42f2-9fa1-49e702653468",
   "metadata": {},
   "outputs": [],
   "source": [
    "gender_vals.plot(kind='bar')"
   ]
  },
  {
   "cell_type": "code",
   "execution_count": null,
   "id": "dc0732e2-9356-485c-a537-5da1ce69f0c4",
   "metadata": {
    "scrolled": true,
    "tags": []
   },
   "outputs": [],
   "source": [
    "print_full(competitors[['Name','WCA ID','Birth Date']].sort_values(by=['Birth Date']))"
   ]
  }
 ],
 "metadata": {
  "kernelspec": {
   "display_name": "Python 3",
   "language": "python",
   "name": "python3"
  },
  "language_info": {
   "codemirror_mode": {
    "name": "ipython",
    "version": 3
   },
   "file_extension": ".py",
   "mimetype": "text/x-python",
   "name": "python",
   "nbconvert_exporter": "python",
   "pygments_lexer": "ipython3",
   "version": "3.9.12"
  }
 },
 "nbformat": 4,
 "nbformat_minor": 5
}
